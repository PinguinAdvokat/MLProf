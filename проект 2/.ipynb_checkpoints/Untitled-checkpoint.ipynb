{
 "cells": [
  {
   "cell_type": "code",
   "execution_count": 150,
   "id": "a748dde8-4563-4782-9439-77009788f00d",
   "metadata": {},
   "outputs": [],
   "source": [
    "import pandas as pd\n",
    "import gpxpy"
   ]
  },
  {
   "cell_type": "code",
   "execution_count": 166,
   "id": "2230e8bc-fcaa-4e20-9811-47a1bc0c1948",
   "metadata": {},
   "outputs": [
    {
     "name": "stdout",
     "output_type": "stream",
     "text": [
      "<class 'pandas.core.frame.DataFrame'>\n",
      "RangeIndex: 12141 entries, 0 to 12140\n",
      "Data columns (total 17 columns):\n",
      " #   Column         Non-Null Count  Dtype  \n",
      "---  ------         --------------  -----  \n",
      " 0   _id            12141 non-null  object \n",
      " 1   length_3d      12141 non-null  float64\n",
      " 2   user           12141 non-null  object \n",
      " 3   start_time     9897 non-null   object \n",
      " 4   max_elevation  10563 non-null  float64\n",
      " 5   bounds         12141 non-null  object \n",
      " 6   uphill         12141 non-null  float64\n",
      " 7   moving_time    12141 non-null  float64\n",
      " 8   end_time       9897 non-null   object \n",
      " 9   max_speed      12141 non-null  float64\n",
      " 10  gpx            12141 non-null  object \n",
      " 11  difficulty     12141 non-null  object \n",
      " 12  min_elevation  10563 non-null  float64\n",
      " 13  url            12141 non-null  object \n",
      " 14  downhill       12141 non-null  float64\n",
      " 15  name           12141 non-null  object \n",
      " 16  length_2d      12141 non-null  float64\n",
      "dtypes: float64(8), object(9)\n",
      "memory usage: 1.6+ MB\n"
     ]
    }
   ],
   "source": [
    "data = pd.read_csv('datasets/gpx-tracks-from-hikr.org.csv')\n",
    "data.info()"
   ]
  },
  {
   "cell_type": "code",
   "execution_count": 163,
   "id": "9849021a-54f9-4864-80fa-00fdf182d15c",
   "metadata": {},
   "outputs": [],
   "source": [
    "def parse_gpx(gpx_string):\n",
    "    try:\n",
    "        gpx = gpxpy.parse(gpx_string)\n",
    "    except Exception:\n",
    "        return None\n",
    "    points = []\n",
    "    for track in gpx.tracks:\n",
    "        for segment in track.segments:\n",
    "            for point in segment.points:\n",
    "                points.append({\n",
    "                            'latitude': point.latitude,\n",
    "                            'longitude': point.longitude,\n",
    "                            'elevation': point.elevation,\n",
    "                            'time': point.time\n",
    "                        })\n",
    "                return points"
   ]
  },
  {
   "cell_type": "code",
   "execution_count": 169,
   "id": "007f6f95-1857-43ca-89ae-e792c3249038",
   "metadata": {},
   "outputs": [],
   "source": [
    "data['parsed_gpx'] = data['gpx'].apply(parse_gpx)"
   ]
  },
  {
   "cell_type": "code",
   "execution_count": 170,
   "id": "19fa9578-e8db-40e7-9a37-858535e4e33f",
   "metadata": {},
   "outputs": [
    {
     "data": {
      "text/plain": [
       "_id                 0\n",
       "length_3d           0\n",
       "user                0\n",
       "start_time       2244\n",
       "max_elevation    1578\n",
       "bounds              0\n",
       "uphill              0\n",
       "moving_time         0\n",
       "end_time         2244\n",
       "max_speed           0\n",
       "gpx                 0\n",
       "difficulty          0\n",
       "min_elevation    1578\n",
       "url                 0\n",
       "downhill            0\n",
       "name                0\n",
       "length_2d           0\n",
       "parsed_gpx        529\n",
       "dtype: int64"
      ]
     },
     "execution_count": 170,
     "metadata": {},
     "output_type": "execute_result"
    }
   ],
   "source": [
    "data.isna().sum()"
   ]
  },
  {
   "cell_type": "code",
   "execution_count": 171,
   "id": "531248b7-8ad1-4083-a796-da4b0ec1dafe",
   "metadata": {},
   "outputs": [
    {
     "name": "stdout",
     "output_type": "stream",
     "text": [
      "<class 'pandas.core.frame.DataFrame'>\n",
      "RangeIndex: 12141 entries, 0 to 12140\n",
      "Data columns (total 18 columns):\n",
      " #   Column         Non-Null Count  Dtype  \n",
      "---  ------         --------------  -----  \n",
      " 0   _id            12141 non-null  object \n",
      " 1   length_3d      12141 non-null  float64\n",
      " 2   user           12141 non-null  object \n",
      " 3   start_time     9897 non-null   object \n",
      " 4   max_elevation  10563 non-null  float64\n",
      " 5   bounds         12141 non-null  object \n",
      " 6   uphill         12141 non-null  float64\n",
      " 7   moving_time    12141 non-null  float64\n",
      " 8   end_time       9897 non-null   object \n",
      " 9   max_speed      12141 non-null  float64\n",
      " 10  gpx            12141 non-null  object \n",
      " 11  difficulty     12141 non-null  object \n",
      " 12  min_elevation  10563 non-null  float64\n",
      " 13  url            12141 non-null  object \n",
      " 14  downhill       12141 non-null  float64\n",
      " 15  name           12141 non-null  object \n",
      " 16  length_2d      12141 non-null  float64\n",
      " 17  parsed_gpx     11612 non-null  object \n",
      "dtypes: float64(8), object(10)\n",
      "memory usage: 1.7+ MB\n"
     ]
    }
   ],
   "source": [
    "data.info()"
   ]
  },
  {
   "cell_type": "code",
   "execution_count": 156,
   "id": "11435c4e-8870-4b54-b401-d454e727d501",
   "metadata": {},
   "outputs": [
    {
     "name": "stdout",
     "output_type": "stream",
     "text": [
      "[{'latitude': 46.18001941591501, 'longitude': 8.994332291185856, 'elevation': 176.54, 'time': datetime.datetime(2018, 5, 11, 6, 29, 38, tzinfo=SimpleTZ('Z'))}]\n"
     ]
    }
   ],
   "source": [
    "print(parse_gpx(data['gpx'][2]))"
   ]
  }
 ],
 "metadata": {
  "kernelspec": {
   "display_name": "Python [conda env:base] *",
   "language": "python",
   "name": "conda-base-py"
  },
  "language_info": {
   "codemirror_mode": {
    "name": "ipython",
    "version": 3
   },
   "file_extension": ".py",
   "mimetype": "text/x-python",
   "name": "python",
   "nbconvert_exporter": "python",
   "pygments_lexer": "ipython3",
   "version": "3.13.5"
  }
 },
 "nbformat": 4,
 "nbformat_minor": 5
}
